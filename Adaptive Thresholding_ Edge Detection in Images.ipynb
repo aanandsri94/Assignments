{
 "cells": [
  {
   "cell_type": "code",
   "execution_count": 1,
   "metadata": {},
   "outputs": [],
   "source": [
    "# importing opencv \n",
    "import cv2 \n",
    "  \n",
    "# Load our input image \n",
    "image = cv2.imread('original.jpeg') \n",
    "cv2.imshow('Original', image) \n",
    "cv2.waitKey() \n",
    "  \n",
    "# We use cvtColor, to convert to grayscale \n",
    "gray_image = cv2.cvtColor(image, cv2.COLOR_BGR2GRAY) \n",
    "  \n",
    "cv2.imshow('Grayscale', gray_image) \n",
    "cv2.waitKey(0)   \n",
    "\n",
    "# window shown waits for any key pressing event \n",
    "cv2.destroyAllWindows() "
   ]
  },
  {
   "cell_type": "code",
   "execution_count": 2,
   "metadata": {},
   "outputs": [
    {
     "data": {
      "image/png": "[encoded data removed]",
      "text/plain": [
       "<Figure size 432x288 with 2 Axes>"
      ]
     },
     "metadata": {},
     "output_type": "display_data"
    }
   ],
   "source": [
    "import cv2\n",
    "import numpy as np\n",
    "from matplotlib import pyplot as plt\n",
    "\n",
    "img = cv2.imread('original.jpeg',0)\n",
    "edges = cv2.Canny(img,100,200)\n",
    "\n",
    "plt.subplot(121),plt.imshow(img,cmap = 'gray')\n",
    "plt.title('Original Image'), plt.xticks([]), plt.yticks([])\n",
    "plt.subplot(122),plt.imshow(edges,cmap = 'gray')\n",
    "plt.title('Edge Image'), plt.xticks([]), plt.yticks([])\n",
    "\n",
    "plt.show()"
   ]
  },
  {
   "cell_type": "code",
   "execution_count": 3,
   "metadata": {},
   "outputs": [],
   "source": [
    "import cv2 \n",
    "\n",
    "image1 = cv2.imread('original.jpeg')\n",
    "img = cv2.cvtColor(image1, cv2.COLOR_BGR2GRAY) \n",
    "ret, thresh2 = cv2.threshold(img, 120, 255, cv2.THRESH_BINARY_INV)\n",
    "cv2.imshow('Binary Threshold Inverted', thresh2) "
   ]
  },
  {
   "cell_type": "code",
   "execution_count": null,
   "metadata": {},
   "outputs": [],
   "source": [
    "import cv2          \n",
    "import numpy as np \n",
    "image1 = cv2.imread('original.jpeg')\n",
    "img = cv2.cvtColor(image1, cv2.COLOR_BGR2GRAY) \n",
    "ret, thresh1 = cv2.threshold(img, 120, 255, cv2.THRESH_BINARY+cv2.THRESH_OTSU)\n",
    "cv2.imshow('Otsu Threshold', thresh1)\n",
    "if cv2.waitKey(0) & 0xff == 27:\n",
    "    cv2.destroyAllWindows()"
   ]
  },
  {
   "cell_type": "code",
   "execution_count": null,
   "metadata": {},
   "outputs": [],
   "source": []
  }
 ],
 "metadata": {
  "kernelspec": {
   "display_name": "Python 3",
   "language": "python",
   "name": "python3"
  },
  "language_info": {
   "codemirror_mode": {
    "name": "ipython",
    "version": 3
   },
   "file_extension": ".py",
   "mimetype": "text/x-python",
   "name": "python",
   "nbconvert_exporter": "python",
   "pygments_lexer": "ipython3",
   "version": "3.7.6"
  }
 },
 "nbformat": 4,
 "nbformat_minor": 4
}
